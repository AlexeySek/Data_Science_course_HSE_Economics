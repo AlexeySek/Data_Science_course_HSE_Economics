{
 "cells": [
  {
   "cell_type": "markdown",
   "metadata": {},
   "source": [
    "Scripts by Alexey Sek)))"
   ]
  },
  {
   "cell_type": "code",
   "execution_count": 58,
   "metadata": {},
   "outputs": [],
   "source": [
    "import numpy as np\n",
    "import scipy.stats as sts\n",
    "import statistics as st"
   ]
  },
  {
   "cell_type": "markdown",
   "metadata": {},
   "source": [
    "# 1. Общие функции"
   ]
  },
  {
   "cell_type": "markdown",
   "metadata": {},
   "source": [
    "## 1.1 Выборочное среднее, выброчные дисперсии"
   ]
  },
  {
   "cell_type": "code",
   "execution_count": 59,
   "metadata": {},
   "outputs": [
    {
     "name": "stdout",
     "output_type": "stream",
     "text": [
      "Выборочное среднее: 2.5\n",
      "Смещенная дисперсия: 1.25\n",
      "Несмещенная дисперсия: 1.6666666666666667\n"
     ]
    }
   ],
   "source": [
    "# На случай, если параметры не даны, а дана реализация выборки\n",
    "\n",
    "# На вход функция должна получить некоторую реализацию выборки\n",
    "\n",
    "def basic_calc(x : list):\n",
    "    x_mean = st.mean(x)\n",
    "    x_var = np.var(x, ddof=1)\n",
    "    x_var_bias = np.var(x)\n",
    "    \n",
    "    return x_mean, x_var_bias, x_var\n",
    "\n",
    "    \n",
    "x = [1, 2, 3, 4]\n",
    "x_mean, x_var_bias, x_var = basic_calc(x)\n",
    "\n",
    "\n",
    "print('Выборочное среднее: ' + str(x_mean))\n",
    "print('Смещенная дисперсия: ' + str(x_var_bias))\n",
    "print('Несмещенная дисперсия: ' + str(x_var))"
   ]
  },
  {
   "cell_type": "markdown",
   "metadata": {},
   "source": [
    "# 2. Проверка гипотез"
   ]
  },
  {
   "cell_type": "markdown",
   "metadata": {},
   "source": [
    "## 2.1 Матожидание: равенство const / больше const / меньше const "
   ]
  },
  {
   "cell_type": "code",
   "execution_count": 60,
   "metadata": {},
   "outputs": [],
   "source": [
    "def x_mean(x_mean, x_var_any, x_mean_hypothesis, n, alpha=0.05):\n",
    "    \n",
    "    t = sts.t(df=n-1)\n",
    "    \n",
    "    two_sided_t = abs(t.ppf(1-alpha/2)) # для гипотезы со знаком равенства, эти границы симметричны\n",
    "    right_t = t.ppf(1-alpha) # для гипотезы со знаком больше\n",
    "    left_t = t.ppf(alpha) # для гипотезы со знаком меньше\n",
    "    \n",
    "    t_calc = (x_mean - x_mean_hypothesis)/np.sqrt(x_var_any/n) # расчетное значение t статистики\n",
    "    \n",
    "    two_sided_hyp = two_sided_t < t_calc < two_sided_t\n",
    "    right_hyp = t_calc > right_t\n",
    "    left_hyp = t_calc < left_t # проверить\n",
    "    \n",
    "    p_val_two_sided = 2 * (1 - t.cdf(abs(t_calc)))\n",
    "    p_val_left = t.cdf(t_calc)\n",
    "    p_val_right = 1 - t.cdf(t_calc)\n",
    "    \n",
    "    return t_calc, two_sided_t, right_t, left_t, two_sided_hyp, right_hyp, left_hyp, p_val_two_sided, p_val_left, p_val_right"
   ]
  },
  {
   "cell_type": "code",
   "execution_count": 61,
   "metadata": {},
   "outputs": [],
   "source": [
    "# В нижней строке прописать необходимые параметры:\n",
    "\n",
    "# x_mean - выборочное среднее\n",
    "# x_var_any - истинная дисперсия или выборочная несмещенная дисперсия\n",
    "# x_mean_hypothesis проверяемое гипотетическое значение среднего\n",
    "# n - количество элементов в выборке\n",
    "# alpha - уровень доверия (точнее уровень доверия = 1-alpha)\n",
    "\n",
    "t_calc, two_sided_t, right_t, left_t, two_sided_hyp, right_hyp, left_hyp, p_val_two_sided, p_val_left, p_val_right = \\\n",
    "x_mean(x_mean=3.8, x_var_any=0.76, x_mean_hypothesis=4, n=156, alpha=0.05)"
   ]
  },
  {
   "cell_type": "code",
   "execution_count": 62,
   "metadata": {},
   "outputs": [
    {
     "name": "stdout",
     "output_type": "stream",
     "text": [
      "Расчетная t-статистика: -2.8654015976455183\n",
      " \n",
      "Границы:\n",
      "t- статстика для гипотезы со знаком равно: 1.9753871310468782\n",
      "t- статстика для гипотезы со знаком больше: 1.6547437739175987\n",
      "t- статстика для гипотезы со знаком меньше: -1.6547437739175994\n",
      " \n",
      "Результаты:\n",
      "Выполнена (не отвергается) ли гипотеза со знаком равно: False\n",
      "Выполнена (не отвергается) ли гипотеза со знаком меньше: True\n",
      "Выполнена (не отвергается) ли гипотеза со знаком больше: False\n",
      " \n",
      "P-Values:\n",
      "P_Value для гипотезы со знаком равно: 0.004743306399938918\n",
      "P_Value для гипотезы со знаком меньше: 0.0023716531999695267\n",
      "P_Value для гипотезы со знаком больше: 0.9976283468000304\n"
     ]
    }
   ],
   "source": [
    "print('Расчетная t-статистика: ' + str(t_calc))\n",
    "\n",
    "print(' ')\n",
    "print('Границы:')\n",
    "print('t- статстика для гипотезы со знаком равно: ' + str(two_sided_t))\n",
    "print('t- статстика для гипотезы со знаком больше: ' + str(right_t))\n",
    "print('t- статстика для гипотезы со знаком меньше: ' + str(left_t))\n",
    "\n",
    "print(' ')\n",
    "print('Результаты:')\n",
    "print('Выполнена (не отвергается) ли гипотеза со знаком равно: ' + str(two_sided_hyp))\n",
    "print('Выполнена (не отвергается) ли гипотеза со знаком меньше: ' + str(left_hyp))\n",
    "print('Выполнена (не отвергается) ли гипотеза со знаком больше: ' + str(right_hyp))\n",
    "\n",
    "print(' ')\n",
    "print('P-Values:')\n",
    "print('P_Value для гипотезы со знаком равно: ' + str(p_val_two_sided))\n",
    "print('P_Value для гипотезы со знаком меньше: ' + str(p_val_left))\n",
    "print('P_Value для гипотезы со знаком больше: ' + str(p_val_right))"
   ]
  },
  {
   "cell_type": "markdown",
   "metadata": {},
   "source": [
    "# Для известной дисперсии"
   ]
  },
  {
   "cell_type": "code",
   "execution_count": 69,
   "metadata": {},
   "outputs": [],
   "source": [
    "def x_mean(x_mean, x_var_any, x_mean_hypothesis, n, alpha=0.05):\n",
    "    \n",
    "    t = sts.norm()\n",
    "    \n",
    "    two_sided_t = abs(t.ppf(1-alpha/2)) # для гипотезы со знаком равенства, эти границы симметричны\n",
    "    right_t = t.ppf(1-alpha) # для гипотезы со знаком больше\n",
    "    left_t = t.ppf(alpha) # для гипотезы со знаком меньше\n",
    "    \n",
    "    t_calc = (x_mean - x_mean_hypothesis)/np.sqrt(x_var_any/n) # расчетное значение t статистики\n",
    "    \n",
    "    two_sided_hyp = two_sided_t < t_calc < two_sided_t\n",
    "    right_hyp = t_calc > right_t\n",
    "    left_hyp = t_calc < left_t # проверить\n",
    "    \n",
    "    p_val_two_sided = 2 * (1 - t.cdf(abs(t_calc)))\n",
    "    p_val_left = t.cdf(t_calc)\n",
    "    p_val_right = 1 - t.cdf(t_calc)\n",
    "    \n",
    "    return t_calc, two_sided_t, right_t, left_t, two_sided_hyp, right_hyp, left_hyp, p_val_two_sided, p_val_left, p_val_right"
   ]
  },
  {
   "cell_type": "code",
   "execution_count": 70,
   "metadata": {},
   "outputs": [],
   "source": [
    "# В нижней строке прописать необходимые параметры:\n",
    "\n",
    "# x_mean - выборочное среднее\n",
    "# x_var_any - истинная дисперсия или выборочная несмещенная дисперсия\n",
    "# x_mean_hypothesis проверяемое гипотетическое значение среднего\n",
    "# n - количество элементов в выборке\n",
    "# alpha - уровень доверия (точнее уровень доверия = 1-alpha)\n",
    "\n",
    "t_calc, two_sided_t, right_t, left_t, two_sided_hyp, right_hyp, left_hyp, p_val_two_sided, p_val_left, p_val_right = \\\n",
    "x_mean(x_mean=3.8, x_var_any=0.76, x_mean_hypothesis=4, n=156, alpha=0.05)"
   ]
  },
  {
   "cell_type": "code",
   "execution_count": 71,
   "metadata": {},
   "outputs": [
    {
     "name": "stdout",
     "output_type": "stream",
     "text": [
      "Расчетная t-статистика: -2.8654015976455183\n",
      " \n",
      "Границы:\n",
      "t- статстика для гипотезы со знаком равно: 1.959963984540054\n",
      "t- статстика для гипотезы со знаком больше: 1.6448536269514722\n",
      "t- статстика для гипотезы со знаком меньше: -1.6448536269514729\n",
      " \n",
      "Результаты:\n",
      "Выполнена (не отвергается) ли гипотеза со знаком равно: False\n",
      "Выполнена (не отвергается) ли гипотеза со знаком меньше: True\n",
      "Выполнена (не отвергается) ли гипотеза со знаком больше: False\n",
      " \n",
      "P-Values:\n",
      "P_Value для гипотезы со знаком равно: 0.004164806898991236\n",
      "P_Value для гипотезы со знаком меньше: 0.0020824034494956187\n",
      "P_Value для гипотезы со знаком больше: 0.9979175965505044\n"
     ]
    }
   ],
   "source": [
    "print('Расчетная t-статистика: ' + str(t_calc))\n",
    "\n",
    "print(' ')\n",
    "print('Границы:')\n",
    "print('t- статстика для гипотезы со знаком равно: ' + str(two_sided_t))\n",
    "print('t- статстика для гипотезы со знаком больше: ' + str(right_t))\n",
    "print('t- статстика для гипотезы со знаком меньше: ' + str(left_t))\n",
    "\n",
    "print(' ')\n",
    "print('Результаты:')\n",
    "print('Выполнена (не отвергается) ли гипотеза со знаком равно: ' + str(two_sided_hyp))\n",
    "print('Выполнена (не отвергается) ли гипотеза со знаком меньше: ' + str(left_hyp))\n",
    "print('Выполнена (не отвергается) ли гипотеза со знаком больше: ' + str(right_hyp))\n",
    "\n",
    "print(' ')\n",
    "print('P-Values:')\n",
    "print('P_Value для гипотезы со знаком равно: ' + str(p_val_two_sided))\n",
    "print('P_Value для гипотезы со знаком меньше: ' + str(p_val_left))\n",
    "print('P_Value для гипотезы со знаком больше: ' + str(p_val_right))"
   ]
  },
  {
   "cell_type": "markdown",
   "metadata": {},
   "source": [
    "## 2.2 Дисперсия: равенство дисперсий"
   ]
  },
  {
   "cell_type": "code",
   "execution_count": 63,
   "metadata": {},
   "outputs": [],
   "source": [
    "def var_equal(x_var_any, y_var_any, n_x, n_y, alpha):\n",
    "    \n",
    "    f = sts.f(dfn=n_x-1, dfd=n_y-1)\n",
    "\n",
    "    f_0 = abs(f.ppf(alpha/2)) # для гипотезы со знаком равенства\n",
    "    f_1 = abs(f.ppf(1-alpha/2)) # для гипотезы со знаком равенства\n",
    "    \n",
    "    # Чтобы понять, какая граница слева/справа в гипотезе     \n",
    "    if f_0 > f_1:\n",
    "        left = f_1\n",
    "        right = f_0\n",
    "    else:\n",
    "        left = f_0\n",
    "        right = f_1\n",
    "    \n",
    "    f_calc = x_var_any / y_var_any\n",
    "    \n",
    "    f_hyp = left < f_calc < right\n",
    "    \n",
    "    return f_calc, left, right, f_hyp"
   ]
  },
  {
   "cell_type": "code",
   "execution_count": 64,
   "metadata": {},
   "outputs": [],
   "source": [
    "# В нижней строке прописать необходимые параметры:\n",
    "\n",
    "# x_var_any - выборочная несмещенная дисперсия x\n",
    "# y_var_any - выборочная несмещенная дисперсия y\n",
    "# n_x - количество элементов в выборке x\n",
    "# n_y - количество элементов в выборке y\n",
    "# alpha - уровень доверия (точнее уровень доверия = 1-alpha)\n",
    "\n",
    "f_calc, left, right, f_hyp =\\\n",
    "var_equal(x_var_any=0.8, y_var_any=0.76, n_x=132, n_y=156, alpha=0.05)"
   ]
  },
  {
   "cell_type": "code",
   "execution_count": 65,
   "metadata": {},
   "outputs": [
    {
     "name": "stdout",
     "output_type": "stream",
     "text": [
      "Расчетная f-статистика: 1.0526315789473684\n",
      " \n",
      "Границы:\n",
      "f- статстика для левой границы: 0.7170499540635331\n",
      "f- статстика для правой границы: 1.3881542171063488\n",
      " \n",
      "Рузльтаты:\n",
      "Выполнена (не отвергается) ли гипотеза о равенстве дисперсий: True\n"
     ]
    }
   ],
   "source": [
    "print('Расчетная f-статистика: ' + str(f_calc))\n",
    "\n",
    "print(' ')\n",
    "print('Границы:')\n",
    "print('f- статстика для левой границы: ' + str(left))\n",
    "print('f- статстика для правой границы: ' + str(right))\n",
    "\n",
    "print(' ')\n",
    "print('Рузльтаты:')\n",
    "print('Выполнена (не отвергается) ли гипотеза о равенстве дисперсий: ' + str(f_hyp))"
   ]
  },
  {
   "cell_type": "markdown",
   "metadata": {},
   "source": [
    "## 2.3 Дисперсия: равенство const / больше const / меньше const "
   ]
  },
  {
   "cell_type": "code",
   "execution_count": 66,
   "metadata": {},
   "outputs": [],
   "source": [
    "def x_var(x_var, x_var_hyp, n, alpha=0.05):\n",
    "    \n",
    "    xi_2 = sts.chi2(df=n-1)\n",
    "    \n",
    "    two_sided_xi_2_right = abs(xi_2.ppf(1-alpha/2)) # для гипотезы со знаком равенства\n",
    "    two_sided_xi_2_left = abs(xi_2.ppf(alpha/2)) # для гипотезы со знаком равенства\n",
    "    \n",
    "    right_xi_2 = xi_2.ppf(1-alpha) # для гипотезы со знаком больше\n",
    "    left_xi_2 = xi_2.ppf(alpha) # для гипотезы со знаком меньше\n",
    "    \n",
    "    xi_2_calc_bias_mean = (x_var * (n - 1)) / x_var_hyp # расчетное значение хи-квадрат статистики при выборочном среднем\n",
    "    xi_2_calc_true_mean = (x_var * n) / x_var_hyp # расчетное значение хи-квадрат статистики при истинном матожидании\n",
    "    \n",
    "    two_sided_hyp_true = two_sided_xi_2_left < xi_2_calc_true_mean < two_sided_xi_2_right\n",
    "    right_hyp_true = xi_2_calc_true_mean > right_xi_2\n",
    "    left_hyp_true = xi_2_calc_true_mean < left_xi_2 # проверить\n",
    "    \n",
    "    two_sided_hyp_bias = two_sided_xi_2_left < xi_2_calc_bias_mean < two_sided_xi_2_right\n",
    "    right_hyp_bias = xi_2_calc_bias_mean > right_xi_2\n",
    "    left_hyp_bias = xi_2_calc_bias_mean < left_xi_2 # проверить\n",
    "    \n",
    "    return xi_2_calc_bias_mean, xi_2_calc_true_mean, two_sided_xi_2_left, two_sided_xi_2_right, left_xi_2, right_xi_2, two_sided_hyp_true, left_hyp_true, right_hyp_true, two_sided_hyp_bias, left_hyp_bias, right_hyp_bias"
   ]
  },
  {
   "cell_type": "code",
   "execution_count": 67,
   "metadata": {},
   "outputs": [],
   "source": [
    "# В нижней строке прописать необходимые параметры:\n",
    "\n",
    "# x_var - выборочная несмещенная дисперсия x\n",
    "# x_var_hyp - проверяемая гипотетическая дисперсия x\n",
    "# n - количество элементов в выборке x\n",
    "# alpha - уровень доверия (точнее уровень доверия = 1-alpha)\n",
    "\n",
    "xi_2_calc_bias_mean, xi_2_calc_true_mean, two_sided_xi_2_left,\\\n",
    "two_sided_xi_2_right, left_xi_2, right_xi_2, two_sided_hyp_true,\\\n",
    "left_hyp_true, right_hyp_true, two_sided_hyp_bias, left_hyp_bias, right_hyp_bias =\\\n",
    "x_var(x_var=0.8, x_var_hyp=1, n=132, alpha=0.05)"
   ]
  },
  {
   "cell_type": "code",
   "execution_count": 68,
   "metadata": {},
   "outputs": [
    {
     "name": "stdout",
     "output_type": "stream",
     "text": [
      "Расчетная xi2-статистика с выборочным средним: 104.80000000000001\n",
      "Расчетная xi2-статистика с истинным мат. ожиданием: 105.60000000000001\n",
      " \n",
      "Двусторонняя гипотезы:\n",
      "xi2 - левая статстика для гипотезы со знаком равно: 101.20979107059382\n",
      "xi2 - правая статстика для гипотезы со знаком равно: 164.5746391483825\n",
      " \n",
      "Левосторонняя и правосторонняя гипотезы:\n",
      "xi2 - статстика для гипотезы со знаком меньше: 105.56023893286982\n",
      "xi2 - статстика для гипотезы со знаком больше: 158.71193003013374\n",
      " \n",
      "Выборочное среднее:\n",
      "Выполнена (не отвергается) ли гипотеза со знаком равно: True\n",
      "Выполнена (не отвергается) ли гипотеза со знаком меньше: True\n",
      "Выполнена (не отвергается) ли гипотеза со знаком больше: False\n",
      " \n",
      "Истинное мат. ожидание:\n",
      "Выполнена (не отвергается) ли гипотеза со знаком равно: True\n",
      "Выполнена (не отвергается) ли гипотеза со знаком меньше: False\n",
      "Выполнена (не отвергается) ли гипотеза со знаком больше: False\n"
     ]
    }
   ],
   "source": [
    "print('Расчетная xi2-статистика с выборочным средним: ' + str(xi_2_calc_bias_mean))\n",
    "print('Расчетная xi2-статистика с истинным мат. ожиданием: ' + str(xi_2_calc_true_mean))\n",
    "\n",
    "print(' ')\n",
    "print('Двусторонняя гипотезы:')\n",
    "print('xi2 - левая статстика для гипотезы со знаком равно: ' + str(two_sided_xi_2_left))\n",
    "print('xi2 - правая статстика для гипотезы со знаком равно: ' + str(two_sided_xi_2_right))\n",
    "\n",
    "print(' ')\n",
    "print('Левосторонняя и правосторонняя гипотезы:')\n",
    "print('xi2 - статстика для гипотезы со знаком меньше: ' + str(left_xi_2))\n",
    "print('xi2 - статстика для гипотезы со знаком больше: ' + str(right_xi_2))\n",
    "\n",
    "print(' ')\n",
    "print('Выборочное среднее:')\n",
    "print('Выполнена (не отвергается) ли гипотеза со знаком равно: ' + str(two_sided_hyp_bias))\n",
    "print('Выполнена (не отвергается) ли гипотеза со знаком меньше: ' + str(left_hyp_bias))\n",
    "print('Выполнена (не отвергается) ли гипотеза со знаком больше: ' + str(right_hyp_bias))\n",
    "\n",
    "print(' ')\n",
    "print('Истинное мат. ожидание:')\n",
    "print('Выполнена (не отвергается) ли гипотеза со знаком равно: ' + str(two_sided_hyp_true))\n",
    "print('Выполнена (не отвергается) ли гипотеза со знаком меньше: ' + str(left_hyp_true))\n",
    "print('Выполнена (не отвергается) ли гипотеза со знаком больше: ' + str(right_hyp_true))"
   ]
  },
  {
   "cell_type": "markdown",
   "metadata": {},
   "source": [
    "## 2.4 Для долей нормальное распределение, и так просто посчитать"
   ]
  },
  {
   "cell_type": "code",
   "execution_count": null,
   "metadata": {},
   "outputs": [],
   "source": []
  },
  {
   "cell_type": "code",
   "execution_count": null,
   "metadata": {},
   "outputs": [],
   "source": []
  }
 ],
 "metadata": {
  "kernelspec": {
   "display_name": "Python 3",
   "language": "python",
   "name": "python3"
  },
  "language_info": {
   "codemirror_mode": {
    "name": "ipython",
    "version": 3
   },
   "file_extension": ".py",
   "mimetype": "text/x-python",
   "name": "python",
   "nbconvert_exporter": "python",
   "pygments_lexer": "ipython3",
   "version": "3.7.3"
  }
 },
 "nbformat": 4,
 "nbformat_minor": 2
}
